{
 "cells": [
  {
   "cell_type": "code",
   "execution_count": 30,
   "id": "90294a22-21ae-4f91-843e-adcc4b1a7958",
   "metadata": {},
   "outputs": [],
   "source": [
    "import pandas as pd\n",
    "def convertListDF_toflaotDF(df):\n",
    "    \n",
    "    list_AUCs = []\n",
    "    for i in range(df.shape[0]):\n",
    "        list_temp = df.iloc[i,:]\n",
    "        list_temp = [float(list_temp[k][1:-1]) for k in range(df.shape[1])]\n",
    "        list_AUCs.append(list_temp)\n",
    "    return pd.DataFrame(list_AUCs,index = ['slider', 'fan', 'pump', 'valve'], columns = ['id_00','id_02', 'id_04', 'id_06']) "
   ]
  },
  {
   "cell_type": "markdown",
   "id": "076b71bb-b9c4-40e3-b5e5-4f33523341af",
   "metadata": {},
   "source": [
    "Spectrogram AUC :\n",
    "   - Latent space dim = 18\n",
    "   - AE : (64,64,18,64,64) Relu"
   ]
  },
  {
   "cell_type": "code",
   "execution_count": 111,
   "id": "a9829999-2237-48c6-9c93-b50670476277",
   "metadata": {},
   "outputs": [
    {
     "data": {
      "image/png": "[encoded data removed]",
      "text/plain": [
       "<Figure size 432x288 with 1 Axes>"
      ]
     },
     "metadata": {
      "needs_background": "light"
     },
     "output_type": "display_data"
    }
   ],
   "source": [
    "df_spectro = pd.read_csv('latent_space_param_AUC.csv', index_col=[0])\n",
    "df_spectro = convertListDF_toflaotDF(df_spectro)\n",
    "\n",
    "import matplotlib.pyplot as plt\n",
    "myFig = plt.figure();\n",
    "fig = df_spectro.transpose().boxplot(return_type='axes')\n",
    "plt.title('Boxplot Spectrogram - AE')\n",
    "plt.yticks([0.5, 0.6, 0.7, 0.8, 0.9, 1])\n",
    "myFig.savefig('Spectro_boxplot.png', format=\"png\")"
   ]
  },
  {
   "cell_type": "code",
   "execution_count": 112,
   "id": "44e2fbd3-98d1-4c6d-b503-96a439eef27d",
   "metadata": {},
   "outputs": [
    {
     "data": {
      "image/png": "[encoded data removed]",
      "text/plain": [
       "<Figure size 432x288 with 1 Axes>"
      ]
     },
     "metadata": {
      "needs_background": "light"
     },
     "output_type": "display_data"
    }
   ],
   "source": [
    "df_PSD = pd.read_csv('latent_space_param_AUC_PSD.csv', index_col=[0])\n",
    "df_PSD = convertListDF_toflaotDF(df_PSD)\n",
    "\n",
    "import matplotlib.pyplot as plt\n",
    "myFig = plt.figure();\n",
    "fig = df_PSD.transpose().boxplot(return_type='axes')\n",
    "plt.title('Boxplot PSD - AE')\n",
    "plt.yticks([0.5, 0.6, 0.7, 0.8, 0.9, 1])\n",
    "myFig.savefig('PSD_boxplot.png', format=\"png\")"
   ]
  },
  {
   "cell_type": "code",
   "execution_count": 100,
   "id": "1224e0a6-2862-4785-a66e-85d35aa28e22",
   "metadata": {},
   "outputs": [
    {
     "data": {
      "image/png": "[encoded data removed]",
      "text/plain": [
       "<Figure size 432x288 with 1 Axes>"
      ]
     },
     "metadata": {
      "needs_background": "light"
     },
     "output_type": "display_data"
    }
   ],
   "source": [
    "df_mahala = pd.read_csv('MAHALANOBIS-PSD.csv', index_col=[0])\n",
    "df_mahala = convertListDF_toflaotDF(df_mahala)\n",
    "\n",
    "import matplotlib.pyplot as plt\n",
    "myFig = plt.figure();\n",
    "fig = df_mahala.transpose().boxplot(return_type='axes')\n",
    "plt.title('Boxplot PSD - Mahalanobis')\n",
    "plt.yticks([0.5, 0.6, 0.7, 0.8, 0.9, 1])\n",
    "myFig.savefig('MIMII_PSD_mahala.png', format=\"png\")"
   ]
  },
  {
   "cell_type": "markdown",
   "id": "2096b5fd-fcfa-427e-b45f-d414fd4ece0c",
   "metadata": {},
   "source": [
    "Look up how to compute the means for perf comparison"
   ]
  },
  {
   "cell_type": "code",
   "execution_count": 46,
   "id": "4bcf6dd6-0a28-4995-8e56-e5b24ff593ea",
   "metadata": {},
   "outputs": [
    {
     "data": {
      "text/plain": [
       "id_00    0.519243\n",
       "id_02    0.744236\n",
       "id_04    0.793611\n",
       "id_06    0.581181\n",
       "Name: valve, dtype: float64"
      ]
     },
     "execution_count": 46,
     "metadata": {},
     "output_type": "execute_result"
    }
   ],
   "source": [
    "df_spectro.iloc[3,:]"
   ]
  },
  {
   "cell_type": "code",
   "execution_count": 47,
   "id": "49f47044-ef7c-4f78-a0b9-be4951fcb1ed",
   "metadata": {},
   "outputs": [
    {
     "data": {
      "text/plain": [
       "0.6595676922729876"
      ]
     },
     "execution_count": 47,
     "metadata": {},
     "output_type": "execute_result"
    }
   ],
   "source": [
    "df_spectro.iloc[3,:].mean()"
   ]
  },
  {
   "cell_type": "code",
   "execution_count": 50,
   "id": "1da9553a-c73a-4900-8201-96b195db621a",
   "metadata": {},
   "outputs": [
    {
     "data": {
      "text/plain": [
       "0.6399755394558804"
      ]
     },
     "execution_count": 50,
     "metadata": {},
     "output_type": "execute_result"
    }
   ],
   "source": [
    "from statistics import harmonic_mean\n",
    "harmonic_mean(df_spectro.iloc[3,:])"
   ]
  },
  {
   "cell_type": "code",
   "execution_count": 51,
   "id": "39faef50-13b3-4dda-affd-96c9c5aa3aef",
   "metadata": {},
   "outputs": [
    {
     "data": {
      "text/plain": [
       "0.8266022674278107"
      ]
     },
     "execution_count": 51,
     "metadata": {},
     "output_type": "execute_result"
    }
   ],
   "source": [
    "harmonic_mean(df_mahala.iloc[3,:])"
   ]
  },
  {
   "cell_type": "markdown",
   "id": "008d17ba-c74b-45dd-8c03-e3e7e5e0ec14",
   "metadata": {},
   "source": [
    "Create the baseline MIMII dataset :\n",
    " - Order of the lists : slider, fan, pump, valve\n",
    " - Based on the AUC from https://deepai.org/publication/mimii-dataset-sound-dataset-for-malfunctioning-industrial-machine-investigation-and-inspection"
   ]
  },
  {
   "cell_type": "code",
   "execution_count": 63,
   "id": "cdb868e3-29d9-4d10-8c32-ddebdcd5ef66",
   "metadata": {},
   "outputs": [
    {
     "data": {
      "text/html": [
       "<div>\n",
       "<style scoped>\n",
       "    .dataframe tbody tr th:only-of-type {\n",
       "        vertical-align: middle;\n",
       "    }\n",
       "\n",
       "    .dataframe tbody tr th {\n",
       "        vertical-align: top;\n",
       "    }\n",
       "\n",
       "    .dataframe thead th {\n",
       "        text-align: right;\n",
       "    }\n",
       "</style>\n",
       "<table border=\"1\" class=\"dataframe\">\n",
       "  <thead>\n",
       "    <tr style=\"text-align: right;\">\n",
       "      <th></th>\n",
       "      <th>id_00</th>\n",
       "      <th>id_02</th>\n",
       "      <th>id_04</th>\n",
       "      <th>id_06</th>\n",
       "    </tr>\n",
       "  </thead>\n",
       "  <tbody>\n",
       "    <tr>\n",
       "      <th>slider</th>\n",
       "      <td>0.99</td>\n",
       "      <td>0.93</td>\n",
       "      <td>0.88</td>\n",
       "      <td>0.71</td>\n",
       "    </tr>\n",
       "    <tr>\n",
       "      <th>fan</th>\n",
       "      <td>0.75</td>\n",
       "      <td>0.99</td>\n",
       "      <td>0.92</td>\n",
       "      <td>0.99</td>\n",
       "    </tr>\n",
       "    <tr>\n",
       "      <th>pump</th>\n",
       "      <td>0.84</td>\n",
       "      <td>0.45</td>\n",
       "      <td>0.99</td>\n",
       "      <td>0.94</td>\n",
       "    </tr>\n",
       "    <tr>\n",
       "      <th>valve</th>\n",
       "      <td>0.68</td>\n",
       "      <td>0.66</td>\n",
       "      <td>0.64</td>\n",
       "      <td>0.70</td>\n",
       "    </tr>\n",
       "  </tbody>\n",
       "</table>\n",
       "</div>"
      ],
      "text/plain": [
       "        id_00  id_02  id_04  id_06\n",
       "slider   0.99   0.93   0.88   0.71\n",
       "fan      0.75   0.99   0.92   0.99\n",
       "pump     0.84   0.45   0.99   0.94\n",
       "valve    0.68   0.66   0.64   0.70"
      ]
     },
     "execution_count": 63,
     "metadata": {},
     "output_type": "execute_result"
    }
   ],
   "source": [
    "MIMII_lists = [[0.99,0.93,0.88,0.71], [0.75,0.99,0.92,0.99], [0.84,0.45,0.99,0.94], [0.68,0.66,0.64,0.70]]\n",
    "df_MIMII = pd.DataFrame(MIMII_lists,index = ['slider', 'fan', 'pump', 'valve'], columns = ['id_00','id_02', 'id_04', 'id_06']) \n",
    "df_MIMII"
   ]
  },
  {
   "cell_type": "code",
   "execution_count": 105,
   "id": "88b1d697-1017-43c2-99da-bc2c7d54a578",
   "metadata": {},
   "outputs": [
    {
     "data": {
      "image/png": "[encoded data removed]",
      "text/plain": [
       "<Figure size 432x288 with 1 Axes>"
      ]
     },
     "metadata": {
      "needs_background": "light"
     },
     "output_type": "display_data"
    }
   ],
   "source": [
    "import matplotlib.pyplot as plt\n",
    "myFig = plt.figure();\n",
    "fig = df_MIMII.transpose().boxplot(return_type='axes')\n",
    "plt.title('Boxplot Baseline')\n",
    "plt.yticks([0.5, 0.6, 0.7, 0.8, 0.9, 1])\n",
    "myFig.savefig('MIMII_boxplot.png', format=\"png\")"
   ]
  },
  {
   "cell_type": "markdown",
   "id": "9b845463-9304-45db-a671-62c0d5d2e66e",
   "metadata": {},
   "source": [
    "Make the 2 bar plot comparison :\n",
    " 1) MIMII, Spectro , PSD\n",
    " 2) Spectro, Mahalanobis"
   ]
  },
  {
   "cell_type": "code",
   "execution_count": 64,
   "id": "2a03d3ca-6d13-4932-8cbb-4fd4a6c33d7e",
   "metadata": {},
   "outputs": [],
   "source": [
    "# Créer une fonction qui prend **kwargs et output le correct dataset selon !\n",
    "\n",
    "def MeanListGenerator(df):\n",
    "    \"\"\" Receive a df and output a the harmonic mean of each raw as harmonic mean \"\"\"\n",
    "    Mean_list = []\n",
    "    for i in range(df.shape[0]):\n",
    "        list_temp = df.iloc[i,:]\n",
    "        Mean_list.append(harmonic_mean(list_temp))\n",
    "    return Mean_list\n",
    "\n",
    "                         \n",
    "list_spectro = MeanListGenerator(df_spectro)\n",
    "list_PSD = MeanListGenerator(df_PSD)\n",
    "list_mahala = MeanListGenerator(df_mahala)\n",
    "list_MIMII = MeanListGenerator(df_MIMII)"
   ]
  },
  {
   "cell_type": "code",
   "execution_count": 72,
   "id": "964c0927-afbc-46d6-8b7c-0590cfdf03c7",
   "metadata": {},
   "outputs": [
    {
     "data": {
      "text/plain": [
       "<AxesSubplot:title={'center':'Performance comparison'}, ylabel='AUC'>"
      ]
     },
     "execution_count": 72,
     "metadata": {},
     "output_type": "execute_result"
    },
    {
     "data": {
      "image/png": "[encoded data removed]",
      "text/plain": [
       "<Figure size 432x288 with 1 Axes>"
      ]
     },
     "metadata": {
      "needs_background": "light"
     },
     "output_type": "display_data"
    }
   ],
   "source": [
    "df_comparison_baseline = pd.DataFrame([list_MIMII,list_spectro, list_PSD],index = ['Baseline','Spectrogram','PSD'],  columns = ['slider', 'fan', 'pump', 'valve'])\n",
    "df_comparison_baseline = df_comparison_baseline.transpose()\n",
    "df_comparison_baseline.plot.bar(title='Performance comparison', ylabel='AUC')"
   ]
  },
  {
   "cell_type": "code",
   "execution_count": 107,
   "id": "d578bf24-4510-4827-8188-35f3065d5c25",
   "metadata": {},
   "outputs": [
    {
     "data": {
      "text/plain": [
       "<AxesSubplot:>"
      ]
     },
     "execution_count": 107,
     "metadata": {},
     "output_type": "execute_result"
    },
    {
     "data": {
      "image/png": "[encoded data removed]",
      "text/plain": [
       "<Figure size 432x288 with 1 Axes>"
      ]
     },
     "metadata": {
      "needs_background": "light"
     },
     "output_type": "display_data"
    }
   ],
   "source": [
    "df_comparison_baseline = pd.DataFrame([list_spectro, list_mahala],index = ['spectro','mahala'],  columns = ['slider', 'fan', 'pump', 'valve'])\n",
    "df_comparison_baseline = df_comparison_baseline.transpose()\n",
    "df_comparison_baseline.plot.bar()"
   ]
  },
  {
   "cell_type": "code",
   "execution_count": 108,
   "id": "1436e8eb-11d9-4a6e-9c9b-8c2eefca63db",
   "metadata": {},
   "outputs": [
    {
     "data": {
      "text/plain": [
       "<AxesSubplot:>"
      ]
     },
     "execution_count": 108,
     "metadata": {},
     "output_type": "execute_result"
    },
    {
     "data": {
      "image/png": "[encoded data removed]",
      "text/plain": [
       "<Figure size 432x288 with 1 Axes>"
      ]
     },
     "metadata": {
      "needs_background": "light"
     },
     "output_type": "display_data"
    }
   ],
   "source": [
    "df_comparison_baseline.boxplot()"
   ]
  },
  {
   "cell_type": "markdown",
   "id": "dbdad1f2-836e-4184-aee7-ab445a8fb356",
   "metadata": {},
   "source": [
    "- Create a code to get the standard deviation providing the harmonic mean\n",
    "- Create box plot to represent the deviation of each implementation\n",
    "- Add title and savefig"
   ]
  },
  {
   "cell_type": "code",
   "execution_count": null,
   "id": "10c4a511-acf5-41b7-8f03-e1b64ffde912",
   "metadata": {},
   "outputs": [],
   "source": []
  }
 ],
 "metadata": {
  "kernelspec": {
   "display_name": "Python 3 (ipykernel)",
   "language": "python",
   "name": "python3"
  },
  "language_info": {
   "codemirror_mode": {
    "name": "ipython",
    "version": 3
   },
   "file_extension": ".py",
   "mimetype": "text/x-python",
   "name": "python",
   "nbconvert_exporter": "python",
   "pygments_lexer": "ipython3",
   "version": "3.9.12"
  }
 },
 "nbformat": 4,
 "nbformat_minor": 5
}
