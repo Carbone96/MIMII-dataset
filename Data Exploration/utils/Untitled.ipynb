{
 "cells": [
  {
   "cell_type": "code",
   "execution_count": null,
   "id": "2c230aff-e988-47c5-8673-820e0a14cc80",
   "metadata": {},
   "outputs": [],
   "source": [
    "feature_name = ['1','2','3','4','5','6','7','8']\n",
    "for data in encoded_data:\n",
    "    plt.bar(feature_name, data, alpha=0.1)\n",
    "plt.show"
   ]
  },
  {
   "cell_type": "code",
   "execution_count": null,
   "id": "0b3a9723-554d-4e80-8a19-d5d03599d448",
   "metadata": {},
   "outputs": [],
   "source": [
    "tf_PSD_normal = tf.cast(df_PSD_normal,float)\n",
    "tf_PSD_abnormal = tf.cast(df_PSD_abnormal.iloc[:,:-1],float)\n",
    "\n",
    "MIN,MAX = MinMaxNormalisation.getMinMax(tf_PSD_normal)\n",
    "tf_PSD_normal = MinMaxNormalisation.fun(tf_PSD_normal,MIN,MAX)\n",
    "tf_PSD_abnormal = MinMaxNormalisation.fun(tf_PSD_abnormal,MIN,MAX)\n",
    "\n",
    "encoded_normal = autoencoder.encoder(tf_PSD_normal,192)\n",
    "encoded_abnormal = autoencoder.encoder(tf_PSD_abnormal,192)\n",
    "\n",
    "plt.scatter(encoded_normal,encoded_normal, color='green')\n",
    "plt.scatter(encoded_abnormal,encoded_abnormal, color='red')\n",
    "plt.show"
   ]
  }
 ],
 "metadata": {
  "kernelspec": {
   "display_name": "Python 3 (ipykernel)",
   "language": "python",
   "name": "python3"
  },
  "language_info": {
   "codemirror_mode": {
    "name": "ipython",
    "version": 3
   },
   "file_extension": ".py",
   "mimetype": "text/x-python",
   "name": "python",
   "nbconvert_exporter": "python",
   "pygments_lexer": "ipython3",
   "version": "3.9.12"
  }
 },
 "nbformat": 4,
 "nbformat_minor": 5
}
