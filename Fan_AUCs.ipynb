{
 "cells": [
  {
   "cell_type": "markdown",
   "id": "d605b083-630c-478b-8744-686b187b6bd7",
   "metadata": {
    "tags": []
   },
   "source": [
    "# Compare AUC \n",
    "\n",
    "The following code aims to compare the performances on different methods "
   ]
  },
  {
   "cell_type": "code",
   "execution_count": 8,
   "id": "943a0aee-e149-4a22-b3e0-2c26ab3ffcd5",
   "metadata": {},
   "outputs": [],
   "source": [
    "import sklearn\n",
    "from sklearn import metrics\n",
    "from sklearn.model_selection import train_test_split\n",
    "import tensorflow as tf\n",
    "from tensorflow.keras import layers, losses\n",
    "from tensorflow.keras.models import Model\n",
    "import tensorflow_probability as tfp\n",
    "from tensorflow.keras import backend as K\n",
    "import numpy as np\n",
    "## import functions\n",
    "import sys\n",
    "sys.path.append(\"..\")\n",
    "from src import GetParquet\n",
    "from src import Train_test_sets_maker\n",
    "from src import MinMaxNormalisation\n",
    "from src import CoxboxTransform\n",
    "from src import Visualize\n",
    "from src import MIMII_AE\n",
    "from src import AE_variant1"
   ]
  },
  {
   "cell_type": "markdown",
   "id": "25a3242c-606e-487b-8aec-442bf6f92a67",
   "metadata": {},
   "source": [
    "# Lots of intermediary functions\n",
    "\n",
    "TO UPDATE : These should be directly included in 'src' folder or be part of a constructor in a OOP implementation."
   ]
  },
  {
   "cell_type": "code",
   "execution_count": 42,
   "id": "215d6d28-7d47-4177-953b-6540d45a5ee8",
   "metadata": {},
   "outputs": [],
   "source": [
    "def lossCalcMSE(model,data):\n",
    "    reconstructions = model(data)\n",
    "    return tf.keras.losses.mse(reconstructions,data)\n",
    "\n",
    "def computeLossesMSE(model, data):\n",
    "    lossValues = []\n",
    "    for raw_index in range(data.shape[0]):\n",
    "        # parcour les 313 vecteurs\n",
    "        spectrogram_flat = np.array(test_set.iloc[raw_index])\n",
    "        spectrogram = spectrogram_flat.reshape(313,64)\n",
    "        spec_df = pd.DataFrame(spectrogram)\n",
    "        spec_tf = tf.cast(spec_df, tf.float32)\n",
    "        ### Function used for AUC computation :\n",
    "        lossValues.append(np.mean(lossCalcMSE(model, spec_tf)))  \n",
    "    return lossValues\n",
    "    \n",
    "def lossCalcMAE(model,data):\n",
    "    reconstructions = model(data)\n",
    "    return tf.keras.losses.mae(reconstructions,data)\n",
    "\n",
    "def computeLossesMAE(model, data):\n",
    "    lossValues = []\n",
    "    for raw_index in range(data.shape[0]):\n",
    "        # parcour les 313 vecteurs\n",
    "        spectrogram_flat = np.array(test_set.iloc[raw_index])\n",
    "        spectrogram = spectrogram_flat.reshape(313,64)\n",
    "        spec_df = pd.DataFrame(spectrogram)\n",
    "        spec_tf = tf.cast(spec_df, tf.float32)\n",
    "        ### Function used for AUC computation :\n",
    "        lossValues.append(np.mean(lossCalcMAE(model, spec_tf)))  \n",
    "    return lossValues\n",
    "def AUC(test_labels,test_set,model,metric = \"mse\"):\n",
    "    \n",
    "    if metric == \"mse\":\n",
    "        \n",
    "        lossValues = computeLossesMSE(model,test_set)\n",
    "        \n",
    "    if metric == \"mae\":\n",
    "        \n",
    "        lossValues = computeLossesMAE(model,test_set)\n",
    "    \n",
    "    return 1 - metrics.roc_auc_score(test_labels, lossValues)\n",
    "\n"
   ]
  },
  {
   "cell_type": "code",
   "execution_count": 48,
   "id": "8855b23c-6b35-4d5a-bd6d-485cd271aee0",
   "metadata": {},
   "outputs": [],
   "source": [
    "def GetNormalizeData(method,ID): \n",
    "       # import data\n",
    "    df_normal, df_abnormal = GetParquet.fun(1,ID,method)\n",
    "    # create datasets\n",
    "    train_set, test_set, test_labels = Train_test_sets_maker.fun(df_normal,df_abnormal)\n",
    "    # normalize [0,1]\n",
    "    MIN,MAX = MinMaxNormalisation.getMinMax(train_set)\n",
    "    \n",
    "    train_set = MinMaxNormalisation.fun(train_set,MIN,MAX)\n",
    "    test_set = MinMaxNormalisation.fun(test_set,MIN,MAX)\n",
    "    \n",
    "    return train_set,test_set,test_labels"
   ]
  },
  {
   "cell_type": "code",
   "execution_count": 49,
   "id": "93b49994-cf96-4bd7-b1df-ff34e2f1dec5",
   "metadata": {},
   "outputs": [],
   "source": [
    "import pandas as pd\n",
    "def reshape_Spec(tf_set):\n",
    "    \n",
    "    \"\"\" Takes the (1,20032) input vectors and reshape them to become (1,64) \"\"\"\n",
    "    df = None\n",
    "    for raw in range(tf_set.shape[0]):\n",
    "    # parcour les 313 vecteurs\n",
    "        spectrogram_flat = np.array(tf_set.iloc[raw])\n",
    "        spectrogram = spectrogram_flat.reshape(313,64)\n",
    "        spec_df = pd.DataFrame(spectrogram)\n",
    "\n",
    "        if df is None:\n",
    "            df = spec_df        \n",
    "        else:\n",
    "            df = pd.concat([df,spec_df],ignore_index = True)\n",
    "\n",
    "    return df"
   ]
  },
  {
   "cell_type": "code",
   "execution_count": 50,
   "id": "ae011d8b-03f9-48fc-8585-347c6836620b",
   "metadata": {},
   "outputs": [],
   "source": [
    "def MIMII_AUC_calc(AUC_list,train_set,test_set,test_labels):\n",
    "    \n",
    "    train_set_RESHAPE = tf.cast(reshape_Spec(train_set),float)\n",
    "    test_set_RESHAPE = tf.cast(reshape_Spec(test_set),float)\n",
    "    \n",
    "    InputSize = test_set_RESHAPE.shape[1]\n",
    "    \n",
    "    \"\"\" uses the MSE as loss fun\"\"\"\n",
    "\n",
    "    autoencoder = MIMII_AE.fun(InputSize)\n",
    "    # Train algorithm\n",
    "    history = autoencoder.fit(train_set_RESHAPE, train_set_RESHAPE, \n",
    "                                  epochs=50, \n",
    "                                  batch_size=512,\n",
    "                                  validation_data=(test_set_RESHAPE,test_set_RESHAPE),\n",
    "                                  validation_split = 0.1,\n",
    "                                  verbose = 0,\n",
    "                                  shuffle=True)\n",
    "                        \n",
    "    AUC_list.append(AUC(test_labels, test_set, autoencoder))\n",
    "    \n",
    "    \"\"\" uses the MAE as loss fun\"\"\"\n",
    "\n",
    "    \n",
    "    autoencoder = MIMII_AE.fun(InputSize,'mae')\n",
    "        # Train algorithm\n",
    "    history = autoencoder.fit(train_set_RESHAPE, train_set_RESHAPE, \n",
    "                                  epochs=50, \n",
    "                                  batch_size=512,\n",
    "                                  validation_data=(test_set_RESHAPE,test_set_RESHAPE),\n",
    "                                  validation_split = 0.1,\n",
    "                                  verbose = 0,\n",
    "                                  shuffle=True)\n",
    "    AUC_list.append(AUC(test_labels, test_set, autoencoder, 'mae'))\n",
    "    print(\"AUC computed\")\n",
    "    return AUC_list"
   ]
  },
  {
   "cell_type": "code",
   "execution_count": 51,
   "id": "e8de866d-0aaf-4533-a40c-47dbb799949c",
   "metadata": {},
   "outputs": [],
   "source": [
    "def Variant_AUC_calc(AUC_list,train_set,test_set,test_labels):\n",
    "    \n",
    "    train_set_RESHAPE = tf.cast(reshape_Spec(train_set),float)\n",
    "    test_set_RESHAPE = tf.cast(reshape_Spec(test_set),float)\n",
    "    \n",
    "    InputSize = test_set_RESHAPE.shape[1]\n",
    "    \n",
    "    \"\"\" uses the MSE as loss fun\"\"\"\n",
    "    \n",
    "    autoencoder = AE_variant1.fun(InputSize,128,8)\n",
    "        # Train algorithm\n",
    "    history = autoencoder.fit(train_set_RESHAPE, train_set_RESHAPE, \n",
    "                                  epochs=50, \n",
    "                                  batch_size=512,\n",
    "                                  validation_data=(test_set_RESHAPE,test_set_RESHAPE),\n",
    "                                  validation_split = 0.1,\n",
    "                                  verbose = 0,\n",
    "                                  shuffle=True)\n",
    "                        \n",
    "    AUC_list.append(AUC(test_labels, test_set, autoencoder))\n",
    "    \n",
    "    \"\"\" uses the MAE as loss fun\"\"\"\n",
    "\n",
    "    \n",
    "    autoencoder = AE_variant1.fun(InputSize,128,8,'mae')\n",
    "        # Train algorithm\n",
    "    history = autoencoder.fit(train_set_RESHAPE, train_set_RESHAPE, \n",
    "                                  epochs=50, \n",
    "                                  batch_size=512,\n",
    "                                  validation_data=(test_set_RESHAPE,test_set_RESHAPE),\n",
    "                                  validation_split = 0.1,\n",
    "                                  verbose = 0,\n",
    "                                  shuffle=True)\n",
    "    AUC_list.append(AUC(test_labels, test_set, autoencoder, 'mae'))\n",
    "    print(\"AUC computed !\")\n",
    "    return AUC_list"
   ]
  },
  {
   "cell_type": "markdown",
   "id": "9288d612-1997-4b15-9438-17ed8b5a169d",
   "metadata": {},
   "source": [
    "# __Main__ function"
   ]
  },
  {
   "cell_type": "code",
   "execution_count": 52,
   "id": "2a511c0c-830d-4801-b685-f1eeb73a99a5",
   "metadata": {},
   "outputs": [
    {
     "name": "stdout",
     "output_type": "stream",
     "text": [
      "Data acquired !\n",
      "Train & test sets created !\n",
      "AUC computed\n",
      "AUC computed\n",
      "AUC computed !\n",
      "AUC computed !\n",
      "ID1completed with method0!\n",
      "Data acquired !\n",
      "Train & test sets created !\n",
      "AUC computed\n",
      "AUC computed\n",
      "AUC computed !\n",
      "AUC computed !\n",
      "ID2completed with method0!\n",
      "Data acquired !\n",
      "Train & test sets created !\n",
      "AUC computed\n",
      "AUC computed\n",
      "AUC computed !\n",
      "AUC computed !\n",
      "ID3completed with method0!\n",
      "Data acquired !\n",
      "Train & test sets created !\n",
      "AUC computed\n",
      "AUC computed\n",
      "AUC computed !\n",
      "AUC computed !\n",
      "ID4completed with method0!\n",
      "Data acquired !\n",
      "Train & test sets created !\n"
     ]
    },
    {
     "ename": "ValueError",
     "evalue": "cannot reshape array of size 320 into shape (313,64)",
     "output_type": "error",
     "traceback": [
      "\u001b[1;31m---------------------------------------------------------------------------\u001b[0m",
      "\u001b[1;31mValueError\u001b[0m                                Traceback (most recent call last)",
      "Input \u001b[1;32mIn [52]\u001b[0m, in \u001b[0;36m<cell line: 5>\u001b[1;34m()\u001b[0m\n\u001b[0;32m     14\u001b[0m CB_test_set \u001b[38;5;241m=\u001b[39m CoxboxTransform\u001b[38;5;241m.\u001b[39mfun(test_set\u001b[38;5;241m+\u001b[39m\u001b[38;5;241m1\u001b[39m)\n\u001b[0;32m     16\u001b[0m \u001b[38;5;66;03m# Cast all functions as Tensorflow\u001b[39;00m\n\u001b[0;32m     17\u001b[0m \u001b[38;5;66;03m#train_set, test_set, CB_train_set, CB_test_set = tf.cast(df_train, tf.float32), tf.cast(df_test, tf.float32), tf.cast(CB_train_set, tf.float32), tf.cast(CB_test_set, tf.float32)\u001b[39;00m\n\u001b[0;32m     18\u001b[0m \n\u001b[0;32m     19\u001b[0m \u001b[38;5;66;03m# Get MIMII_AE for normal datasets\u001b[39;00m\n\u001b[1;32m---> 20\u001b[0m AUC_list \u001b[38;5;241m=\u001b[39m \u001b[43mMIMII_AUC_calc\u001b[49m\u001b[43m(\u001b[49m\u001b[43mAUC_list\u001b[49m\u001b[43m,\u001b[49m\u001b[43mtrain_set\u001b[49m\u001b[43m,\u001b[49m\u001b[43mtest_set\u001b[49m\u001b[43m,\u001b[49m\u001b[43mtest_labels\u001b[49m\u001b[43m)\u001b[49m\n\u001b[0;32m     21\u001b[0m \u001b[38;5;66;03m# Get MIMII_AE for gaussian distributed datasets\u001b[39;00m\n\u001b[0;32m     22\u001b[0m AUC_list \u001b[38;5;241m=\u001b[39m MIMII_AUC_calc(AUC_list,CB_train_set,CB_test_set,test_labels)\n",
      "Input \u001b[1;32mIn [50]\u001b[0m, in \u001b[0;36mMIMII_AUC_calc\u001b[1;34m(AUC_list, train_set, test_set, test_labels)\u001b[0m\n\u001b[0;32m      1\u001b[0m \u001b[38;5;28;01mdef\u001b[39;00m \u001b[38;5;21mMIMII_AUC_calc\u001b[39m(AUC_list,train_set,test_set,test_labels):\n\u001b[1;32m----> 3\u001b[0m     train_set_RESHAPE \u001b[38;5;241m=\u001b[39m tf\u001b[38;5;241m.\u001b[39mcast(\u001b[43mreshape_Spec\u001b[49m\u001b[43m(\u001b[49m\u001b[43mtrain_set\u001b[49m\u001b[43m)\u001b[49m,\u001b[38;5;28mfloat\u001b[39m)\n\u001b[0;32m      4\u001b[0m     test_set_RESHAPE \u001b[38;5;241m=\u001b[39m tf\u001b[38;5;241m.\u001b[39mcast(reshape_Spec(test_set),\u001b[38;5;28mfloat\u001b[39m)\n\u001b[0;32m      6\u001b[0m     InputSize \u001b[38;5;241m=\u001b[39m test_set_RESHAPE\u001b[38;5;241m.\u001b[39mshape[\u001b[38;5;241m1\u001b[39m]\n",
      "Input \u001b[1;32mIn [49]\u001b[0m, in \u001b[0;36mreshape_Spec\u001b[1;34m(tf_set)\u001b[0m\n\u001b[0;32m      6\u001b[0m \u001b[38;5;28;01mfor\u001b[39;00m raw \u001b[38;5;129;01min\u001b[39;00m \u001b[38;5;28mrange\u001b[39m(tf_set\u001b[38;5;241m.\u001b[39mshape[\u001b[38;5;241m0\u001b[39m]):\n\u001b[0;32m      7\u001b[0m \u001b[38;5;66;03m# parcour les 313 vecteurs\u001b[39;00m\n\u001b[0;32m      8\u001b[0m     spectrogram_flat \u001b[38;5;241m=\u001b[39m np\u001b[38;5;241m.\u001b[39marray(tf_set\u001b[38;5;241m.\u001b[39miloc[raw])\n\u001b[1;32m----> 9\u001b[0m     spectrogram \u001b[38;5;241m=\u001b[39m \u001b[43mspectrogram_flat\u001b[49m\u001b[38;5;241;43m.\u001b[39;49m\u001b[43mreshape\u001b[49m\u001b[43m(\u001b[49m\u001b[38;5;241;43m313\u001b[39;49m\u001b[43m,\u001b[49m\u001b[38;5;241;43m64\u001b[39;49m\u001b[43m)\u001b[49m\n\u001b[0;32m     10\u001b[0m     spec_df \u001b[38;5;241m=\u001b[39m pd\u001b[38;5;241m.\u001b[39mDataFrame(spectrogram)\n\u001b[0;32m     12\u001b[0m     \u001b[38;5;28;01mif\u001b[39;00m df \u001b[38;5;129;01mis\u001b[39;00m \u001b[38;5;28;01mNone\u001b[39;00m:\n",
      "\u001b[1;31mValueError\u001b[0m: cannot reshape array of size 320 into shape (313,64)"
     ]
    }
   ],
   "source": [
    "method_to_test = [0] \n",
    "ID_to_test = [1,2,3,4]\n",
    "\n",
    "AUCs = []\n",
    "for method in method_to_test:\n",
    "    for ID in ID_to_test:\n",
    "        AUC_list = []\n",
    "        # Get datasets\n",
    "        train_set, test_set, test_labels = GetNormalizeData(method,ID)\n",
    "        \n",
    "        \n",
    "        # All datapoints are shifter by 1, as the coxbox supports only STRICTLY positive numbers\n",
    "        CB_train_set = CoxboxTransform.fun(train_set+1)\n",
    "        CB_test_set = CoxboxTransform.fun(test_set+1)\n",
    "        \n",
    "        # Cast all functions as Tensorflow\n",
    "        #train_set, test_set, CB_train_set, CB_test_set = tf.cast(df_train, tf.float32), tf.cast(df_test, tf.float32), tf.cast(CB_train_set, tf.float32), tf.cast(CB_test_set, tf.float32)\n",
    "        \n",
    "        # Get MIMII_AE for normal datasets\n",
    "        AUC_list = MIMII_AUC_calc(AUC_list,train_set,test_set,test_labels)\n",
    "        # Get MIMII_AE for gaussian distributed datasets\n",
    "        AUC_list = MIMII_AUC_calc(AUC_list,CB_train_set,CB_test_set,test_labels)\n",
    "        # Get Variant AE for normal datasets\n",
    "        AUC_list = Variant_AUC_calc(AUC_list,train_set,test_set,test_labels)\n",
    "        # Get Variant AE for gaussian distributed datasets\n",
    "        AUC_list = Variant_AUC_calc(AUC_list,CB_train_set,CB_test_set,test_labels)\n",
    "        print(\"ID\" + str(ID) + \"completed with method\" + str(method) + \"!\")\n",
    "        AUCs.append(AUC_list)\n",
    "\n"
   ]
  },
  {
   "cell_type": "markdown",
   "id": "5727bf17-e9a0-4ed6-a252-4feb04813048",
   "metadata": {},
   "source": [
    "# Performances from MIMII Paper : Fan + 6dB"
   ]
  },
  {
   "cell_type": "code",
   "execution_count": 65,
   "id": "20e5eb7d-6743-4126-a5eb-a9338b19c755",
   "metadata": {},
   "outputs": [
    {
     "data": {
      "text/html": [
       "<div>\n",
       "<style scoped>\n",
       "    .dataframe tbody tr th:only-of-type {\n",
       "        vertical-align: middle;\n",
       "    }\n",
       "\n",
       "    .dataframe tbody tr th {\n",
       "        vertical-align: top;\n",
       "    }\n",
       "\n",
       "    .dataframe thead th {\n",
       "        text-align: right;\n",
       "    }\n",
       "</style>\n",
       "<table border=\"1\" class=\"dataframe\">\n",
       "  <thead>\n",
       "    <tr style=\"text-align: right;\">\n",
       "      <th></th>\n",
       "      <th>MIMII_ref</th>\n",
       "    </tr>\n",
       "  </thead>\n",
       "  <tbody>\n",
       "    <tr>\n",
       "      <th>0</th>\n",
       "      <td>0.75</td>\n",
       "    </tr>\n",
       "    <tr>\n",
       "      <th>1</th>\n",
       "      <td>0.99</td>\n",
       "    </tr>\n",
       "    <tr>\n",
       "      <th>2</th>\n",
       "      <td>0.92</td>\n",
       "    </tr>\n",
       "    <tr>\n",
       "      <th>3</th>\n",
       "      <td>0.99</td>\n",
       "    </tr>\n",
       "  </tbody>\n",
       "</table>\n",
       "</div>"
      ],
      "text/plain": [
       "   MIMII_ref\n",
       "0       0.75\n",
       "1       0.99\n",
       "2       0.92\n",
       "3       0.99"
      ]
     },
     "execution_count": 65,
     "metadata": {},
     "output_type": "execute_result"
    }
   ],
   "source": [
    "import pandas as pd\n",
    "df_MIMII = pd.DataFrame([0.75, 0.99, 0.92, 0.99], columns = ['MIMII_ref']) \n",
    "df_MIMII\n"
   ]
  },
  {
   "cell_type": "markdown",
   "id": "5802b3a9-17a8-4f78-a096-daa2a1a7ebfa",
   "metadata": {},
   "source": [
    "# Performances for different implementation of the algorithm"
   ]
  },
  {
   "cell_type": "code",
   "execution_count": 53,
   "id": "98956b83-7b15-43c7-859c-ca85eec1472e",
   "metadata": {
    "tags": []
   },
   "outputs": [
    {
     "data": {
      "text/html": [
       "<div>\n",
       "<style scoped>\n",
       "    .dataframe tbody tr th:only-of-type {\n",
       "        vertical-align: middle;\n",
       "    }\n",
       "\n",
       "    .dataframe tbody tr th {\n",
       "        vertical-align: top;\n",
       "    }\n",
       "\n",
       "    .dataframe thead th {\n",
       "        text-align: right;\n",
       "    }\n",
       "</style>\n",
       "<table border=\"1\" class=\"dataframe\">\n",
       "  <thead>\n",
       "    <tr style=\"text-align: right;\">\n",
       "      <th></th>\n",
       "      <th>MSE_MIMII</th>\n",
       "      <th>MAE_MIMII</th>\n",
       "      <th>MSE_Variant</th>\n",
       "      <th>MAE_Variant</th>\n",
       "      <th>CB_MSE_MIMII</th>\n",
       "      <th>CB_MAE_MIMII</th>\n",
       "      <th>CB_MSE_Variant</th>\n",
       "      <th>CB_MAE_Variant</th>\n",
       "    </tr>\n",
       "  </thead>\n",
       "  <tbody>\n",
       "    <tr>\n",
       "      <th>0</th>\n",
       "      <td>0.806220</td>\n",
       "      <td>0.831002</td>\n",
       "      <td>0.441960</td>\n",
       "      <td>0.532936</td>\n",
       "      <td>0.837590</td>\n",
       "      <td>0.821253</td>\n",
       "      <td>0.513213</td>\n",
       "      <td>0.549904</td>\n",
       "    </tr>\n",
       "    <tr>\n",
       "      <th>1</th>\n",
       "      <td>0.995443</td>\n",
       "      <td>0.991870</td>\n",
       "      <td>0.412257</td>\n",
       "      <td>0.517072</td>\n",
       "      <td>0.996309</td>\n",
       "      <td>0.994593</td>\n",
       "      <td>0.151064</td>\n",
       "      <td>0.309689</td>\n",
       "    </tr>\n",
       "    <tr>\n",
       "      <th>2</th>\n",
       "      <td>0.935644</td>\n",
       "      <td>0.925753</td>\n",
       "      <td>0.291772</td>\n",
       "      <td>0.583187</td>\n",
       "      <td>0.922987</td>\n",
       "      <td>0.924532</td>\n",
       "      <td>0.320175</td>\n",
       "      <td>0.647335</td>\n",
       "    </tr>\n",
       "    <tr>\n",
       "      <th>3</th>\n",
       "      <td>0.998881</td>\n",
       "      <td>0.999244</td>\n",
       "      <td>0.415532</td>\n",
       "      <td>0.611019</td>\n",
       "      <td>0.999090</td>\n",
       "      <td>0.999545</td>\n",
       "      <td>0.784769</td>\n",
       "      <td>0.662785</td>\n",
       "    </tr>\n",
       "  </tbody>\n",
       "</table>\n",
       "</div>"
      ],
      "text/plain": [
       "   MSE_MIMII  MAE_MIMII  MSE_Variant  MAE_Variant  CB_MSE_MIMII  CB_MAE_MIMII  \\\n",
       "0   0.806220   0.831002     0.441960     0.532936      0.837590      0.821253   \n",
       "1   0.995443   0.991870     0.412257     0.517072      0.996309      0.994593   \n",
       "2   0.935644   0.925753     0.291772     0.583187      0.922987      0.924532   \n",
       "3   0.998881   0.999244     0.415532     0.611019      0.999090      0.999545   \n",
       "\n",
       "   CB_MSE_Variant  CB_MAE_Variant  \n",
       "0        0.513213        0.549904  \n",
       "1        0.151064        0.309689  \n",
       "2        0.320175        0.647335  \n",
       "3        0.784769        0.662785  "
      ]
     },
     "execution_count": 53,
     "metadata": {},
     "output_type": "execute_result"
    }
   ],
   "source": [
    "import pandas as pd\n",
    "columns = ['MSE_MIMII', 'MAE_MIMII', 'MSE_Variant','MAE_Variant','CB_MSE_MIMII', 'CB_MAE_MIMII', 'CB_MSE_Variant','CB_MAE_Variant']\n",
    "df = pd.DataFrame(AUCs, columns = columns)"
   ]
  },
  {
   "cell_type": "code",
   "execution_count": 66,
   "id": "861ada7c-7236-4f7e-8205-58e862762226",
   "metadata": {},
   "outputs": [
    {
     "name": "stdout",
     "output_type": "stream",
     "text": [
      "MIMII paper mean AUC : 0.9125\n",
      "MSE MIMII mean AUC : 0.934\n",
      "MAE MIMII mean AUC : 0.937\n",
      "box cox MSE MIMII mean AUC : 0.939\n"
     ]
    }
   ],
   "source": [
    "print('MIMII paper mean AUC : ' + str(round(np.mean(df_MIMII['MIMII_ref']),4)))\n",
    "print('MSE MIMII mean AUC : ' + str(round(np.mean(df['MSE_MIMII']),4)))\n",
    "print('MAE MIMII mean AUC : ' + str(round(np.mean(df['MAE_MIMII']),4)))\n",
    "print('box cox MSE MIMII mean AUC : ' + str(round(np.mean(df['CB_MSE_MIMII']),4)))"
   ]
  },
  {
   "cell_type": "markdown",
   "id": "1d1f779d-b637-4f82-b724-4d235b706d29",
   "metadata": {},
   "source": [
    "# Conclusions"
   ]
  },
  {
   "cell_type": "markdown",
   "id": "5540979e-cb95-4bbf-9f23-4ca89bc07bb7",
   "metadata": {},
   "source": [
    "1) Comparison with MIMII paper :\n",
    "- Greater AUC were achieved comparatively with some combinations of implementations\n",
    "- The use of MAE or MSE doesn't seem to change significantly the performances of detection on dataset if these performances are already quite high (~ 0.01 AUC difference if AUC > 0.9). However, it seems greater AUC is obtained in case of lower performances : ~0.03 AUC difference. The influence of outliers in the training model should be investigated.\n",
    "2) Variant AE :\n",
    "- The variant introduces 2 additionnals layers [128,1] which considerably reduced the performances and introduced greater training times\n",
    "3) Box-Cox transformation :\n",
    "- Comparatively, the Box-Cox transformation induced better results on average and pre-processing the dataset for a having a Normal distribution in not to be overlooked. However, in this case the ratio of improvement over additionnal computationnal time is so low that the transformation is not worth it.\n",
    "4) Changes compared to MIMII paper :\n",
    "- Channel selection : Instead of using the 1st channel I used the 4th channel where the microphone is closer and directly pointing towards the fan. Therefore the data should carry clearer information.\n",
    "- MinMax Normalisation : the train and test set are normalized (same normalization for both !) such that the NN can converges faster."
   ]
  },
  {
   "cell_type": "markdown",
   "id": "73b780be-3002-4195-ad21-949a83b6c832",
   "metadata": {},
   "source": [
    "# Further research :"
   ]
  }
 ],
 "metadata": {
  "kernelspec": {
   "display_name": "Python 3 (ipykernel)",
   "language": "python",
   "name": "python3"
  },
  "language_info": {
   "codemirror_mode": {
    "name": "ipython",
    "version": 3
   },
   "file_extension": ".py",
   "mimetype": "text/x-python",
   "name": "python",
   "nbconvert_exporter": "python",
   "pygments_lexer": "ipython3",
   "version": "3.9.12"
  }
 },
 "nbformat": 4,
 "nbformat_minor": 5
}
