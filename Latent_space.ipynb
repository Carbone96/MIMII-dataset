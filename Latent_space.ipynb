{
 "cells": [
  {
   "cell_type": "markdown",
   "id": "edf5b5ac-2cc1-4a6d-accb-bab22b417a5f",
   "metadata": {},
   "source": [
    "# Parametric study on the dimension of the latent space"
   ]
  },
  {
   "cell_type": "markdown",
   "id": "05917343-f70e-4d93-b66b-3ba229d8ccac",
   "metadata": {},
   "source": [
    "## Latent space parametrisation"
   ]
  },
  {
   "cell_type": "markdown",
   "id": "9867af0b-e6d2-43a2-85ce-9bace79bbdba",
   "metadata": {},
   "source": [
    "## Latent space visualization"
   ]
  },
  {
   "cell_type": "markdown",
   "id": "9c668e51-a81c-4148-9412-802182a2f215",
   "metadata": {},
   "source": [
    "## Latent space correlation matrix"
   ]
  },
  {
   "cell_type": "code",
   "execution_count": null,
   "id": "2832957f-e543-49f1-8f3e-75d5ed362c73",
   "metadata": {},
   "outputs": [],
   "source": []
  }
 ],
 "metadata": {
  "kernelspec": {
   "display_name": "Python 3 (ipykernel)",
   "language": "python",
   "name": "python3"
  },
  "language_info": {
   "codemirror_mode": {
    "name": "ipython",
    "version": 3
   },
   "file_extension": ".py",
   "mimetype": "text/x-python",
   "name": "python",
   "nbconvert_exporter": "python",
   "pygments_lexer": "ipython3",
   "version": "3.9.12"
  }
 },
 "nbformat": 4,
 "nbformat_minor": 5
}
