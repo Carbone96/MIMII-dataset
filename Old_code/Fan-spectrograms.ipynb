{
 "cells": [
  {
   "cell_type": "markdown",
   "id": "1b97484a-5358-4a7a-b7c7-cf25dc57534b",
   "metadata": {},
   "source": [
    "# Visualize spectrogram for Fan id OO"
   ]
  },
  {
   "cell_type": "code",
   "execution_count": 1,
   "id": "561c2fd4-9f56-4abc-884f-e0f790ddec07",
   "metadata": {},
   "outputs": [],
   "source": [
    "def Get_CSV(machines_name, IDs ):\n",
    "    data_path = 'C:/Users/carbo/Documents/MIMII/CSV_Data/Spectrogram/'\n",
    "    stati = ['normal','abnormal']\n",
    "    df_normal = None\n",
    "    df_abnormal = None\n",
    "    for machine in machines_name:\n",
    "        for ID in IDs:\n",
    "            for status in stati:\n",
    "                data_name = machine + '_' + ID + '_' + status + '.csv'\n",
    "                if status == 'normal':\n",
    "                    if df_normal is None:\n",
    "                        df_normal = pd.read_csv(data_path + data_name, header=None)\n",
    "                        df_normal = df_normal.iloc[1:]\n",
    "                    else:\n",
    "                        df_normal_temp = pd.read_csv(data_path + data_name, header=None)\n",
    "                        df_normal_temp = df_normal_temp.iloc[1:]\n",
    "                        pd.concat(df_normal,df_normal_temp,ignore_index = True)\n",
    "                else :\n",
    "                    if df_abnormal is None:\n",
    "                        df_abnormal = pd.read_csv(data_path + data_name, header=None)\n",
    "                        df_abnormal = df_abnormal.iloc[1:]\n",
    "                    else:\n",
    "                        df_abnormal_temp = pd.read_csv(data_path + data_name, header=None)\n",
    "                        df_abnormal_temp = df_abnormal_temp.iloc[1:]\n",
    "                        pd.concat(df_abnormal,df_abnormal_temp, ignore_index = True)\n",
    "    return df_normal, df_abnormal    "
   ]
  },
  {
   "cell_type": "code",
   "execution_count": null,
   "id": "72d3c684-b86a-498f-8521-62fe6e88fa31",
   "metadata": {},
   "outputs": [],
   "source": [
    "df_normal, df_abnormal = Get_CSV(['fan'], ['id_00'])"
   ]
  },
  {
   "cell_type": "code",
   "execution_count": null,
   "id": "62b43da1-d016-473f-adf1-fa7bf8437762",
   "metadata": {},
   "outputs": [],
   "source": [
    "anomalous_test_data = test_set[~test_labels]\n",
    "abnormal_spec = anomalous_test_data[16:17].to_numpy()\n",
    "abnormal_spec = abnormal_spec.reshape(64,313)"
   ]
  }
 ],
 "metadata": {
  "kernelspec": {
   "display_name": "Python 3 (ipykernel)",
   "language": "python",
   "name": "python3"
  },
  "language_info": {
   "codemirror_mode": {
    "name": "ipython",
    "version": 3
   },
   "file_extension": ".py",
   "mimetype": "text/x-python",
   "name": "python",
   "nbconvert_exporter": "python",
   "pygments_lexer": "ipython3",
   "version": "3.9.12"
  }
 },
 "nbformat": 4,
 "nbformat_minor": 5
}
