{
 "cells": [
  {
   "cell_type": "code",
   "execution_count": 1,
   "id": "175c65fc-ce0b-40d5-905c-ac4f6666ee5f",
   "metadata": {},
   "outputs": [],
   "source": [
    "def SpectrogramBandDivisor(spectrogram,n_mels):\n",
    "    \n",
    "    \"\"\"\n",
    "    This function will :\n",
    "        1) Transpose the spectrogram\n",
    "        2) Takes #frames bands of the spectrogram and concatenate them\n",
    "    \n",
    "    \"\"\"\n",
    "    timestamps = [0.2, 0.4, 0.5, 0.6, 0.8] \n",
    "    \n",
    "    time_index = [round(timestamp*spectrogram.shape[1]) for timestamp in timestamps]\n",
    "    \n",
    "    res_list = spectrogram[:,time_index[0]]\n",
    "    for t in range(len(timestamps)-1):\n",
    "        res_list = [*res_list, *spectrogram[:,time_index[t+1]]]\n",
    "    return res_list"
   ]
  },
  {
   "cell_type": "code",
   "execution_count": 2,
   "id": "1fc69fdb-49a6-4fd8-9431-bffe7a69b6c6",
   "metadata": {},
   "outputs": [],
   "source": [
    "def SpectrogramDuplicator(spectrogram, n_mels, frames=5):\n",
    "    \"\"\"\n",
    "    1) Transpose the spectrogram\n",
    "    2) Duplicate it by #frames\n",
    "    \n",
    "    \"\"\"\n",
    "    \n",
    "    dims = frames * n_mels\n",
    "    vectorarray_size = len(spectrogram[0, :]) - frames + 1\n",
    "\n",
    "    vectorarray = np.zeros((vectorarray_size, dims), float)\n",
    "    for t in range(frames):\n",
    "           vectorarray[:, n_mels * t: n_mels * (t + 1)] = spectrogram[:, t: t + vectorarray_size].T\n",
    "    return vectorarray       \n",
    "           \n",
    "           \n",
    "def import_data(wav_name,channel=0):\n",
    "    try:\n",
    "        multi_channel_data, sr = sf.read(wav_name)\n",
    "        if multi_channel_data.ndim <= 1:\n",
    "            # ADD HERE A CONDITION TO READ MULTICHANNEL LENGTH AND REMOVE IF TOO SHORT\n",
    "            return sr, multi_channel_data\n",
    "        return sr, np.array(multi_channel_data)[:,channel]\n",
    "    except ValueError as msg:\n",
    "        logger.warning(f'{msg}')\n",
    "\n",
    "           \n",
    "def Spectro_DataFrame_Maker(user_path,data_path, SpectroDuplication = False, SpectroBandDivisor = True):\n",
    "    # The data_path must be CSV files of\n",
    "    # 1) all same length\n",
    "    # 2) audio data\n",
    "    your_path = user_path+data_path\n",
    "    files = os.listdir(your_path)    \n",
    "    \n",
    "    \"\"\"\n",
    "    Spectrogram parameters\n",
    "    \"\"\"\n",
    "    n_mels = 64\n",
    "    n_fft = 1024\n",
    "    overlap = round(n_fft*0.5)\n",
    "    power = 2\n",
    "    \n",
    "    \n",
    "    S_dB_list = []\n",
    "    for index,file in enumerate(files):\n",
    "        if os.path.isfile(os.path.join(your_path,file)):\n",
    "            fs, audio = import_data(os.path.join(your_path,file))\n",
    "            S = librosa.feature.melspectrogram(y=audio,\n",
    "                                                     sr=fs,\n",
    "                                                     n_mels = n_mels,\n",
    "                                                     #fmax=8000   default is sr/2\n",
    "                                                     n_fft= n_fft,\n",
    "                                                     hop_length= overlap,\n",
    "                                                     power= power                                    )\n",
    "            S_dB = librosa.power_to_db(S)\n",
    "            \n",
    "            if SpectroDuplication == True:\n",
    "                S_dB = SpectrogramDuplicator(S_dB,n_mels)\n",
    "                S_dB_flat = S_dB.flatten()  # flatten the matrix to 1D vector (raw-wise)\n",
    "            if SpectroBandDivisor == True:\n",
    "                S_dB_flat = SpectrogramBandDivisor(S_dB,n_mels) # By default, duplication = 5\n",
    "            S_dB_list.append(S_dB_flat)\n",
    "    return pd.DataFrame(S_dB_list)"
   ]
  },
  {
   "cell_type": "code",
   "execution_count": 3,
   "id": "db999083-673e-4d4c-bf6f-168290055377",
   "metadata": {},
   "outputs": [],
   "source": [
    "import numpy as np\n",
    "import os \n",
    "import librosa\n",
    "import librosa.display\n",
    "import soundfile as sf\n",
    "import pandas as pd\n",
    "\n",
    "    \n",
    "names = ['fan']\n",
    "IDs = ['id_00']\n",
    "stati = ['normal']\n",
    "    \n",
    "folder = 'MIMII/RawData/' # fan/id_00/abnormal'\n",
    "user_path = 'C:/Users/carbo/Documents/'\n",
    "writer_path = 'C:/Users/carbo/Documents/MIMII/CSV_Data/Spectrogram_5Bands/'\n",
    "for name in names:\n",
    "    for ID in IDs:\n",
    "        for status in stati:\n",
    "            data_path = folder + name + '/' + ID + '/' + status\n",
    "            df_spectro = Spectro_DataFrame_Maker(user_path,data_path)"
   ]
  },
  {
   "cell_type": "code",
   "execution_count": 5,
   "id": "3abe43b2-410b-4bb2-9c7b-61b09242781f",
   "metadata": {},
   "outputs": [
    {
     "data": {
      "text/plain": [
       "(1011, 320)"
      ]
     },
     "execution_count": 5,
     "metadata": {},
     "output_type": "execute_result"
    }
   ],
   "source": [
    "df_spectro.shape"
   ]
  },
  {
   "cell_type": "code",
   "execution_count": null,
   "id": "c0228ebe-0c66-4730-afe6-a1b734c52d12",
   "metadata": {},
   "outputs": [],
   "source": []
  }
 ],
 "metadata": {
  "kernelspec": {
   "display_name": "Python 3 (ipykernel)",
   "language": "python",
   "name": "python3"
  },
  "language_info": {
   "codemirror_mode": {
    "name": "ipython",
    "version": 3
   },
   "file_extension": ".py",
   "mimetype": "text/x-python",
   "name": "python",
   "nbconvert_exporter": "python",
   "pygments_lexer": "ipython3",
   "version": "3.9.12"
  }
 },
 "nbformat": 4,
 "nbformat_minor": 5
}
