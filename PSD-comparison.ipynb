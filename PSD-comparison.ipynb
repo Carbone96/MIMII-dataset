{
 "cells": [
  {
   "cell_type": "markdown",
   "id": "ecb944bb-f2ba-4a1e-83dd-f80c10a3e161",
   "metadata": {},
   "source": [
    "## PSD - different machine using PSD as pre-processing unit"
   ]
  },
  {
   "cell_type": "code",
   "execution_count": 1,
   "id": "32971fcf-5e12-427b-89c5-5adace3b327a",
   "metadata": {},
   "outputs": [],
   "source": [
    "from src_PSD import runner"
   ]
  },
  {
   "cell_type": "code",
   "execution_count": 2,
   "id": "e83a3e93-a08e-4608-90e2-df86b6fcd5b5",
   "metadata": {},
   "outputs": [],
   "source": [
    "base_folder = '/MIMII/RawData/' + '+6dB' + '/' # fan/id_00/abnormal'\n",
    "user_path = 'C:/Users/carbo/Documents/'\n",
    "writer_path = 'C:/Users/carbo/Documents/MIMII/Data/' + '+6dB' +'/PSD/'"
   ]
  },
  {
   "cell_type": "code",
   "execution_count": 3,
   "id": "3768ab27-a339-4add-951c-0afa33697184",
   "metadata": {},
   "outputs": [
    {
     "name": "stdout",
     "output_type": "stream",
     "text": [
      "/MIMII/RawData/+6dB/test/id_02/normal\n",
      "Data import has been successful !\n",
      "Train & test sets created !\n",
      " test_labels_values 0    False\n",
      "0    False\n",
      "0    False\n",
      "0     True\n",
      "0    False\n",
      "0    False\n",
      "0     True\n",
      "0    False\n",
      "0     True\n",
      "0     True\n",
      "1     True\n",
      "1     True\n",
      "1    False\n",
      "1     True\n",
      "1     True\n",
      "Name: labels, dtype: bool\n",
      "Data preprocessing is finished.. beginning learning !\n"
     ]
    },
    {
     "ename": "ValueError",
     "evalue": "multi_class must be in ('ovo', 'ovr')",
     "output_type": "error",
     "traceback": [
      "\u001b[1;31m---------------------------------------------------------------------------\u001b[0m",
      "\u001b[1;31mValueError\u001b[0m                                Traceback (most recent call last)",
      "Input \u001b[1;32mIn [3]\u001b[0m, in \u001b[0;36m<cell line: 5>\u001b[1;34m()\u001b[0m\n\u001b[0;32m      1\u001b[0m \u001b[38;5;66;03m# The runner should receive the hyper_parameters to put into the method here I think. \u001b[39;00m\n\u001b[0;32m      2\u001b[0m \u001b[38;5;66;03m# The reshaping of the spectrogram is not doable as-is with the current method. It could be quite difficult to debug\u001b[39;00m\n\u001b[1;32m----> 5\u001b[0m \u001b[43mrunner\u001b[49m\u001b[38;5;241;43m.\u001b[39;49m\u001b[43mfoo\u001b[49m\u001b[43m(\u001b[49m\u001b[43mIDchosen\u001b[49m\u001b[43m \u001b[49m\u001b[38;5;241;43m=\u001b[39;49m\u001b[43m \u001b[49m\u001b[38;5;241;43m1\u001b[39;49m\u001b[43m,\u001b[49m\u001b[43m \u001b[49m\n\u001b[0;32m      6\u001b[0m \u001b[43m           \u001b[49m\u001b[43mmachine_name\u001b[49m\u001b[43m \u001b[49m\u001b[38;5;241;43m=\u001b[39;49m\u001b[43m \u001b[49m\u001b[38;5;124;43m'\u001b[39;49m\u001b[38;5;124;43mtest\u001b[39;49m\u001b[38;5;124;43m'\u001b[39;49m\u001b[43m,\u001b[49m\u001b[43m \u001b[49m\n\u001b[0;32m      7\u001b[0m \u001b[43m           \u001b[49m\u001b[43muser_path\u001b[49m\u001b[43m \u001b[49m\u001b[38;5;241;43m=\u001b[39;49m\u001b[43m \u001b[49m\u001b[43muser_path\u001b[49m\u001b[43m \u001b[49m\u001b[43m,\u001b[49m\u001b[43m \u001b[49m\n\u001b[0;32m      8\u001b[0m \u001b[43m           \u001b[49m\u001b[43mbase_folder\u001b[49m\u001b[43m \u001b[49m\u001b[38;5;241;43m=\u001b[39;49m\u001b[43m \u001b[49m\u001b[43mbase_folder\u001b[49m\u001b[43m,\u001b[49m\n\u001b[0;32m      9\u001b[0m \u001b[43m           \u001b[49m\u001b[43mmethod_name\u001b[49m\u001b[43m \u001b[49m\u001b[38;5;241;43m=\u001b[39;49m\u001b[43m \u001b[49m\u001b[38;5;124;43m'\u001b[39;49m\u001b[38;5;124;43mspectro\u001b[39;49m\u001b[38;5;124;43m'\u001b[39;49m\u001b[43m)\u001b[49m\n",
      "File \u001b[1;32m~\\Documents\\MIMII\\MIMII-dataset\\src_PSD\\runner.py:51\u001b[0m, in \u001b[0;36mfoo\u001b[1;34m(IDchosen, machine_name, user_path, base_folder, method_name)\u001b[0m\n\u001b[0;32m     41\u001b[0m     history \u001b[38;5;241m=\u001b[39m autoencoder\u001b[38;5;241m.\u001b[39mfit(train_set, train_set, \n\u001b[0;32m     42\u001b[0m                               epochs\u001b[38;5;241m=\u001b[39mEPOCHS, \n\u001b[0;32m     43\u001b[0m                               batch_size\u001b[38;5;241m=\u001b[39mBATCH,\n\u001b[1;32m   (...)\u001b[0m\n\u001b[0;32m     47\u001b[0m                               shuffle\u001b[38;5;241m=\u001b[39m\u001b[38;5;28;01mFalse\u001b[39;00m\n\u001b[0;32m     48\u001b[0m                              )\n\u001b[0;32m     50\u001b[0m     lossValues \u001b[38;5;241m=\u001b[39m evaluation\u001b[38;5;241m.\u001b[39mfoo(method_name, autoencoder, test_set, dic_file_abnormal)\n\u001b[1;32m---> 51\u001b[0m     AUCs\u001b[38;5;241m.\u001b[39mappend(\u001b[43mcompute_metrics\u001b[49m\u001b[38;5;241;43m.\u001b[39;49m\u001b[43mget_AUC_score\u001b[49m\u001b[43m(\u001b[49m\u001b[43mmethod_name\u001b[49m\u001b[43m,\u001b[49m\u001b[43m \u001b[49m\u001b[43mtest_labels\u001b[49m\u001b[43m,\u001b[49m\u001b[43m \u001b[49m\u001b[43mlossValues\u001b[49m\u001b[43m)\u001b[49m)\n\u001b[0;32m     52\u001b[0m     \u001b[38;5;28mprint\u001b[39m(\u001b[38;5;124mf\u001b[39m\u001b[38;5;124m'\u001b[39m\u001b[38;5;124mAUC value stored !\u001b[39m\u001b[38;5;124m'\u001b[39m)\n\u001b[0;32m     53\u001b[0m \u001b[38;5;28;01mreturn\u001b[39;00m AUCs\n",
      "File \u001b[1;32m~\\Documents\\MIMII\\MIMII-dataset\\src_PSD\\compute_metrics.py:6\u001b[0m, in \u001b[0;36mget_AUC_score\u001b[1;34m(method_name, test_labels, lossValues)\u001b[0m\n\u001b[0;32m      3\u001b[0m \u001b[38;5;28;01mdef\u001b[39;00m \u001b[38;5;21mget_AUC_score\u001b[39m(method_name : \u001b[38;5;28mstr\u001b[39m, test_labels, lossValues):\n\u001b[0;32m      4\u001b[0m     \u001b[38;5;28;01mif\u001b[39;00m method_name \u001b[38;5;241m==\u001b[39m \u001b[38;5;124m'\u001b[39m\u001b[38;5;124mspectro\u001b[39m\u001b[38;5;124m'\u001b[39m:\n\u001b[1;32m----> 6\u001b[0m         \u001b[38;5;28;01mreturn\u001b[39;00m \u001b[43mmetrics\u001b[49m\u001b[38;5;241;43m.\u001b[39;49m\u001b[43mroc_auc_score\u001b[49m\u001b[43m(\u001b[49m\u001b[43mtest_labels\u001b[49m\u001b[43m,\u001b[49m\u001b[43m \u001b[49m\u001b[43mlossValues\u001b[49m\u001b[43m)\u001b[49m\n\u001b[0;32m      8\u001b[0m     \u001b[38;5;28;01mif\u001b[39;00m method_name \u001b[38;5;241m==\u001b[39m \u001b[38;5;124m'\u001b[39m\u001b[38;5;124mpsd\u001b[39m\u001b[38;5;124m'\u001b[39m:\n\u001b[0;32m      9\u001b[0m         \u001b[38;5;28;01mreturn\u001b[39;00m metrics\u001b[38;5;241m.\u001b[39mroc_auc_score(test_labels, lossValues)\n",
      "File \u001b[1;32m~\\OneDrive\\Documents\\anaconda3\\lib\\site-packages\\sklearn\\metrics\\_ranking.py:560\u001b[0m, in \u001b[0;36mroc_auc_score\u001b[1;34m(y_true, y_score, average, sample_weight, max_fpr, multi_class, labels)\u001b[0m\n\u001b[0;32m    553\u001b[0m         \u001b[38;5;28;01mraise\u001b[39;00m \u001b[38;5;167;01mValueError\u001b[39;00m(\n\u001b[0;32m    554\u001b[0m             \u001b[38;5;124m\"\u001b[39m\u001b[38;5;124mPartial AUC computation not available in \u001b[39m\u001b[38;5;124m\"\u001b[39m\n\u001b[0;32m    555\u001b[0m             \u001b[38;5;124m\"\u001b[39m\u001b[38;5;124mmulticlass setting, \u001b[39m\u001b[38;5;124m'\u001b[39m\u001b[38;5;124mmax_fpr\u001b[39m\u001b[38;5;124m'\u001b[39m\u001b[38;5;124m must be\u001b[39m\u001b[38;5;124m\"\u001b[39m\n\u001b[0;32m    556\u001b[0m             \u001b[38;5;124m\"\u001b[39m\u001b[38;5;124m set to `None`, received `max_fpr=\u001b[39m\u001b[38;5;132;01m{0}\u001b[39;00m\u001b[38;5;124m` \u001b[39m\u001b[38;5;124m\"\u001b[39m\n\u001b[0;32m    557\u001b[0m             \u001b[38;5;124m\"\u001b[39m\u001b[38;5;124minstead\u001b[39m\u001b[38;5;124m\"\u001b[39m\u001b[38;5;241m.\u001b[39mformat(max_fpr)\n\u001b[0;32m    558\u001b[0m         )\n\u001b[0;32m    559\u001b[0m     \u001b[38;5;28;01mif\u001b[39;00m multi_class \u001b[38;5;241m==\u001b[39m \u001b[38;5;124m\"\u001b[39m\u001b[38;5;124mraise\u001b[39m\u001b[38;5;124m\"\u001b[39m:\n\u001b[1;32m--> 560\u001b[0m         \u001b[38;5;28;01mraise\u001b[39;00m \u001b[38;5;167;01mValueError\u001b[39;00m(\u001b[38;5;124m\"\u001b[39m\u001b[38;5;124mmulti_class must be in (\u001b[39m\u001b[38;5;124m'\u001b[39m\u001b[38;5;124movo\u001b[39m\u001b[38;5;124m'\u001b[39m\u001b[38;5;124m, \u001b[39m\u001b[38;5;124m'\u001b[39m\u001b[38;5;124movr\u001b[39m\u001b[38;5;124m'\u001b[39m\u001b[38;5;124m)\u001b[39m\u001b[38;5;124m\"\u001b[39m)\n\u001b[0;32m    561\u001b[0m     \u001b[38;5;28;01mreturn\u001b[39;00m _multiclass_roc_auc_score(\n\u001b[0;32m    562\u001b[0m         y_true, y_score, labels, multi_class, average, sample_weight\n\u001b[0;32m    563\u001b[0m     )\n\u001b[0;32m    564\u001b[0m \u001b[38;5;28;01melif\u001b[39;00m y_type \u001b[38;5;241m==\u001b[39m \u001b[38;5;124m\"\u001b[39m\u001b[38;5;124mbinary\u001b[39m\u001b[38;5;124m\"\u001b[39m:\n",
      "\u001b[1;31mValueError\u001b[0m: multi_class must be in ('ovo', 'ovr')"
     ]
    }
   ],
   "source": [
    "# The runner should receive the hyper_parameters to put into the method here I think. \n",
    "# The reshaping of the spectrogram is not doable as-is with the current method. It could be quite difficult to debug\n",
    "\n",
    "\n",
    "runner.foo(IDchosen = 1, \n",
    "           machine_name = 'test', \n",
    "           user_path = user_path , \n",
    "           base_folder = base_folder,\n",
    "           method_name = 'spectro')\n",
    "\n",
    "\n",
    "# Todo : transpose the dataset such that the vectors are 64x1. And, correct the evaluation fonction."
   ]
  },
  {
   "cell_type": "code",
   "execution_count": 6,
   "id": "ccd2e912-070a-4e9a-b60e-083c3069d14d",
   "metadata": {},
   "outputs": [
    {
     "data": {
      "text/plain": [
       "range(313, 626)"
      ]
     },
     "execution_count": 6,
     "metadata": {},
     "output_type": "execute_result"
    }
   ],
   "source": [
    "experiment_index = 2\n",
    "test = range((experiment_index-1) * 313, experiment_index*313, 1)\n",
    "test"
   ]
  },
  {
   "cell_type": "markdown",
   "id": "3a53abf9-a4f7-486f-9366-3c641a9838a1",
   "metadata": {},
   "source": [
    "- create the different PSD dataframe\n",
    "- compare stationnary to non stationnary and anomalous versus non anomalous\n",
    "- compare performance for different machines"
   ]
  },
  {
   "cell_type": "code",
   "execution_count": null,
   "id": "5ce3f59e-7a5b-4dc9-81bb-dbb7dbfa56ac",
   "metadata": {},
   "outputs": [],
   "source": [
    "runner.foo(IDchosen = 1, machine_name = 1, user_path = user_path , base_folder = base_folder)"
   ]
  },
  {
   "cell_type": "code",
   "execution_count": 4,
   "id": "eecaadff-6f78-4806-add2-bb5117659452",
   "metadata": {},
   "outputs": [
    {
     "name": "stdout",
     "output_type": "stream",
     "text": [
      "/MIMII/RawData/+6dB/slider/id_00/normal\n",
      "Data import has been successful !\n",
      "Train & test sets created !\n",
      "Data preprocessing is finished.. beginning learning !\n",
      "AUC value stored !\n",
      "/MIMII/RawData/+6dB/slider/id_02/normal\n",
      "Data import has been successful !\n",
      "Train & test sets created !\n",
      "Data preprocessing is finished.. beginning learning !\n",
      "AUC value stored !\n",
      "/MIMII/RawData/+6dB/slider/id_04/normal\n",
      "Data import has been successful !\n",
      "Train & test sets created !\n",
      "Data preprocessing is finished.. beginning learning !\n",
      "AUC value stored !\n",
      "/MIMII/RawData/+6dB/slider/id_06/normal\n",
      "Data import has been successful !\n",
      "Train & test sets created !\n",
      "Data preprocessing is finished.. beginning learning !\n",
      "AUC value stored !\n",
      "/MIMII/RawData/+6dB/fan/id_00/normal\n",
      "Data import has been successful !\n",
      "Train & test sets created !\n",
      "Data preprocessing is finished.. beginning learning !\n",
      "AUC value stored !\n",
      "/MIMII/RawData/+6dB/fan/id_02/normal\n",
      "Data import has been successful !\n",
      "Train & test sets created !\n",
      "Data preprocessing is finished.. beginning learning !\n",
      "AUC value stored !\n",
      "/MIMII/RawData/+6dB/fan/id_04/normal\n",
      "Data import has been successful !\n",
      "Train & test sets created !\n",
      "Data preprocessing is finished.. beginning learning !\n",
      "AUC value stored !\n",
      "/MIMII/RawData/+6dB/fan/id_06/normal\n",
      "Data import has been successful !\n",
      "Train & test sets created !\n",
      "Data preprocessing is finished.. beginning learning !\n",
      "AUC value stored !\n",
      "/MIMII/RawData/+6dB/pump/id_00/normal\n",
      "Data import has been successful !\n",
      "Train & test sets created !\n",
      "Data preprocessing is finished.. beginning learning !\n",
      "AUC value stored !\n",
      "/MIMII/RawData/+6dB/pump/id_02/normal\n",
      "Data import has been successful !\n",
      "Train & test sets created !\n",
      "Data preprocessing is finished.. beginning learning !\n",
      "AUC value stored !\n",
      "/MIMII/RawData/+6dB/pump/id_04/normal\n",
      "Data import has been successful !\n",
      "Train & test sets created !\n",
      "Data preprocessing is finished.. beginning learning !\n",
      "AUC value stored !\n",
      "/MIMII/RawData/+6dB/pump/id_06/normal\n",
      "Data import has been successful !\n",
      "Train & test sets created !\n",
      "Data preprocessing is finished.. beginning learning !\n",
      "AUC value stored !\n",
      "/MIMII/RawData/+6dB/valve/id_00/normal\n",
      "Data import has been successful !\n",
      "Train & test sets created !\n",
      "Data preprocessing is finished.. beginning learning !\n",
      "AUC value stored !\n",
      "/MIMII/RawData/+6dB/valve/id_02/normal\n",
      "Data import has been successful !\n",
      "Train & test sets created !\n",
      "Data preprocessing is finished.. beginning learning !\n",
      "AUC value stored !\n",
      "/MIMII/RawData/+6dB/valve/id_04/normal\n",
      "Data import has been successful !\n",
      "Train & test sets created !\n",
      "Data preprocessing is finished.. beginning learning !\n",
      "AUC value stored !\n",
      "/MIMII/RawData/+6dB/valve/id_06/normal\n",
      "Data import has been successful !\n",
      "Train & test sets created !\n",
      "Data preprocessing is finished.. beginning learning !\n",
      "AUC value stored !\n"
     ]
    }
   ],
   "source": [
    "def main():\n",
    "\n",
    "    Id_list = [1,2,3,4]\n",
    "    Machine_dic = {1 : 'slider',\n",
    "                   2 : 'fan',\n",
    "                   3 : 'pump',\n",
    "                   4 :  'valve'}\n",
    "                \n",
    "    AUCs = []\n",
    "    for i in range(4):\n",
    "        machine_chosen = Machine_dic[i+1]\n",
    "        AUC_temp = []\n",
    "        for ID in range(4):\n",
    "            AUC_temp.append(runner.foo(IDchosen = ID, \n",
    "                                       machine_name = machine_chosen, \n",
    "                                       user_path = user_path , \n",
    "                                       base_folder = base_folder,\n",
    "                                       method_name = 'psd'))\n",
    "        AUCs.append(AUC_temp)\n",
    "    return AUCs\n",
    "\n",
    "AUCs = main()"
   ]
  },
  {
   "cell_type": "code",
   "execution_count": 5,
   "id": "b3b4cd2b-7bec-4a46-a0a5-1af741b8f1e2",
   "metadata": {},
   "outputs": [
    {
     "data": {
      "text/html": [
       "<div>\n",
       "<style scoped>\n",
       "    .dataframe tbody tr th:only-of-type {\n",
       "        vertical-align: middle;\n",
       "    }\n",
       "\n",
       "    .dataframe tbody tr th {\n",
       "        vertical-align: top;\n",
       "    }\n",
       "\n",
       "    .dataframe thead th {\n",
       "        text-align: right;\n",
       "    }\n",
       "</style>\n",
       "<table border=\"1\" class=\"dataframe\">\n",
       "  <thead>\n",
       "    <tr style=\"text-align: right;\">\n",
       "      <th></th>\n",
       "      <th>id_00</th>\n",
       "      <th>id_02</th>\n",
       "      <th>id_04</th>\n",
       "      <th>id_06</th>\n",
       "    </tr>\n",
       "  </thead>\n",
       "  <tbody>\n",
       "    <tr>\n",
       "      <th>slider</th>\n",
       "      <td>[1.0]</td>\n",
       "      <td>[0.9815118742021911]</td>\n",
       "      <td>[0.8206034591591971]</td>\n",
       "      <td>[0.9818204772124732]</td>\n",
       "    </tr>\n",
       "    <tr>\n",
       "      <th>fan</th>\n",
       "      <td>[0.9587380545611504]</td>\n",
       "      <td>[0.9717413738254669]</td>\n",
       "      <td>[0.9964906196327123]</td>\n",
       "      <td>[0.9980509664597418]</td>\n",
       "    </tr>\n",
       "    <tr>\n",
       "      <th>pump</th>\n",
       "      <td>[0.9571128172526774]</td>\n",
       "      <td>[0.9701322944566187]</td>\n",
       "      <td>[0.7251000000000001]</td>\n",
       "      <td>[0.9487697039600154]</td>\n",
       "    </tr>\n",
       "    <tr>\n",
       "      <th>valve</th>\n",
       "      <td>[0.5385212908692889]</td>\n",
       "      <td>[0.5986805555555555]</td>\n",
       "      <td>[0.6665277777777778]</td>\n",
       "      <td>[0.516388888888889]</td>\n",
       "    </tr>\n",
       "  </tbody>\n",
       "</table>\n",
       "</div>"
      ],
      "text/plain": [
       "                       id_00                 id_02                 id_04  \\\n",
       "slider                 [1.0]  [0.9815118742021911]  [0.8206034591591971]   \n",
       "fan     [0.9587380545611504]  [0.9717413738254669]  [0.9964906196327123]   \n",
       "pump    [0.9571128172526774]  [0.9701322944566187]  [0.7251000000000001]   \n",
       "valve   [0.5385212908692889]  [0.5986805555555555]  [0.6665277777777778]   \n",
       "\n",
       "                       id_06  \n",
       "slider  [0.9818204772124732]  \n",
       "fan     [0.9980509664597418]  \n",
       "pump    [0.9487697039600154]  \n",
       "valve    [0.516388888888889]  "
      ]
     },
     "execution_count": 5,
     "metadata": {},
     "output_type": "execute_result"
    }
   ],
   "source": [
    "import pandas as pd\n",
    "df = pd.DataFrame(AUCs,index = ['slider', 'fan', 'pump', 'valve'], columns = ['id_00','id_02', 'id_04', 'id_06']) \n",
    "df"
   ]
  },
  {
   "cell_type": "markdown",
   "id": "7b250ef7-3eff-4adc-a989-9b5b70a45bf2",
   "metadata": {},
   "source": [
    "Comme attendu : les performances avec le PSD sont bonnes pour les données stationnaires et mauvaise pour les données non stationnaires"
   ]
  }
 ],
 "metadata": {
  "kernelspec": {
   "display_name": "Python 3 (ipykernel)",
   "language": "python",
   "name": "python3"
  },
  "language_info": {
   "codemirror_mode": {
    "name": "ipython",
    "version": 3
   },
   "file_extension": ".py",
   "mimetype": "text/x-python",
   "name": "python",
   "nbconvert_exporter": "python",
   "pygments_lexer": "ipython3",
   "version": "3.9.12"
  }
 },
 "nbformat": 4,
 "nbformat_minor": 5
}
