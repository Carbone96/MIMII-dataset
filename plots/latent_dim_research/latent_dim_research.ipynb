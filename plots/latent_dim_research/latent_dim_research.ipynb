{
 "cells": [
  {
   "cell_type": "markdown",
   "id": "47208321-d8af-4292-8bb0-5ed7d2b6bc19",
   "metadata": {},
   "source": [
    "# Influence on the latent dimension on AUC\n",
    "\n",
    "------------------------------------------------------------------------------------------\n",
    "\n",
    "                                                        Experiments default settings\n",
    "\n",
    "- The AUC are computed on the +6dB dataset unless mentionned in the file name\n",
    "- All experiments computes an anomaly score from the reconstructions error of an AE trained with MSE as loss function\n",
    "- All anormaly score were computed using Mahalanobis distance\n",
    "\n",
    "-------------------------------------------------------------------------------------------------------------------------"
   ]
  },
  {
   "cell_type": "code",
   "execution_count": 94,
   "id": "3794722e-065b-4c0e-a166-917599bab92b",
   "metadata": {},
   "outputs": [],
   "source": [
    "from scipy.stats import hmean\n",
    "import pandas as pd\n",
    "\n",
    "def df_harmonic_maker(file_list : list[str]):\n",
    "    df_harmonic = pd.DataFrame()\n",
    "    for index, file in enumerate(files):\n",
    "        df = pd.read_csv(file, index_col=0)\n",
    "        col_name = 'hmean' + str(index+1)\n",
    "        df[col_name] = df.apply(lambda x: hmean(x[x > 0]), axis=1)\n",
    "        df_harmonic = pd.concat([df_harmonic, df[col_name]], axis=1)\n",
    "    return df_harmonic\n",
    "\n",
    "def line_plotter(df :pd.DataFrame, row_name : str):\n",
    "    row = df.loc[row_name,:]\n",
    "    row.plot(kind='line', label = row_name, ylim = (0.5,1))\n",
    "    plt.show()\n",
    "    \n",
    "def line_plotter_all(df : pd.DataFrame, ylim = (0.5,1)):\n",
    "    index_names = df.index.tolist()\n",
    "    for name in index_names:\n",
    "        row = df.loc[name, :]\n",
    "        row.plot(kind='line', label = name, ylim = ylim)\n",
    "    plt.legend(loc = 'best')\n",
    "    plt.show()\n",
    "    \n",
    "def max_val_and_index(df:pd.DataFrame):\n",
    "    max_cols = df.idxmax(axis=1)\n",
    "    max_vals = df.max(axis=1)\n",
    "    max_df = pd.concat([max_cols, max_vals], axis=1, keys=[\"max_col\", \"max_val\"])\n",
    "    return max_df"
   ]
  },
  {
   "cell_type": "markdown",
   "id": "3ee1390f-d967-4230-b0bb-52826156cae1",
   "metadata": {},
   "source": [
    "# 1) PSD features : MIMII AE"
   ]
  },
  {
   "cell_type": "markdown",
   "id": "71299910-70d8-4751-b447-a85bd2cd4502",
   "metadata": {},
   "source": [
    "- batch_size = 512\n",
    "- epochs = 50\n",
    "- intermediate layer = 64 nodes"
   ]
  },
  {
   "cell_type": "code",
   "execution_count": 95,
   "id": "8f1a4a2b-59d0-4b44-88a0-d80c823f5698",
   "metadata": {},
   "outputs": [
    {
     "data": {
      "image/png": "[encoded data removed]",
      "text/plain": [
       "<Figure size 432x288 with 1 Axes>"
      ]
     },
     "metadata": {
      "needs_background": "light"
     },
     "output_type": "display_data"
    }
   ],
   "source": [
    "import glob\n",
    "files = glob.glob('psd_mahala_AEmimii*')\n",
    "files = [file for file in filter(lambda x: not x.startswith('psd_mahala_AEsparse_100epochs'), files)]\n",
    "files = sorted(files, key=lambda x: int(x.split('AEmimii')[1].split('MSE')[0]))\n",
    "\n",
    "df_harmonic = df_harmonic_maker(files)\n",
    "%matplotlib inline\n",
    "line_plotter_all(df_harmonic)"
   ]
  },
  {
   "cell_type": "code",
   "execution_count": 97,
   "id": "4e3e137b-e31b-4a86-bc7c-e07f91884dad",
   "metadata": {},
   "outputs": [
    {
     "data": {
      "text/html": [
       "<div>\n",
       "<style scoped>\n",
       "    .dataframe tbody tr th:only-of-type {\n",
       "        vertical-align: middle;\n",
       "    }\n",
       "\n",
       "    .dataframe tbody tr th {\n",
       "        vertical-align: top;\n",
       "    }\n",
       "\n",
       "    .dataframe thead th {\n",
       "        text-align: right;\n",
       "    }\n",
       "</style>\n",
       "<table border=\"1\" class=\"dataframe\">\n",
       "  <thead>\n",
       "    <tr style=\"text-align: right;\">\n",
       "      <th></th>\n",
       "      <th>max_col</th>\n",
       "      <th>max_val</th>\n",
       "    </tr>\n",
       "  </thead>\n",
       "  <tbody>\n",
       "    <tr>\n",
       "      <th>slider</th>\n",
       "      <td>hmean20</td>\n",
       "      <td>0.971187</td>\n",
       "    </tr>\n",
       "    <tr>\n",
       "      <th>fan</th>\n",
       "      <td>hmean16</td>\n",
       "      <td>0.978335</td>\n",
       "    </tr>\n",
       "    <tr>\n",
       "      <th>pump</th>\n",
       "      <td>hmean14</td>\n",
       "      <td>0.987529</td>\n",
       "    </tr>\n",
       "    <tr>\n",
       "      <th>valve</th>\n",
       "      <td>hmean1</td>\n",
       "      <td>0.824999</td>\n",
       "    </tr>\n",
       "  </tbody>\n",
       "</table>\n",
       "</div>"
      ],
      "text/plain": [
       "        max_col   max_val\n",
       "slider  hmean20  0.971187\n",
       "fan     hmean16  0.978335\n",
       "pump    hmean14  0.987529\n",
       "valve    hmean1  0.824999"
      ]
     },
     "execution_count": 97,
     "metadata": {},
     "output_type": "execute_result"
    }
   ],
   "source": [
    "max_df = max_val_and_index(df_harmonic)\n",
    "max_df"
   ]
  },
  {
   "cell_type": "markdown",
   "id": "08703252-fa44-4b13-ada1-47cf712a1380",
   "metadata": {},
   "source": [
    "# 2) PSD features : Sparse AE"
   ]
  },
  {
   "cell_type": "markdown",
   "id": "5dec7906-b3cb-4af5-aa40-7ef04c26ba24",
   "metadata": {},
   "source": [
    "- batch_size = 512\n",
    "- epochs = 50\n",
    "- intermediate layers = feature vector size"
   ]
  },
  {
   "cell_type": "code",
   "execution_count": 101,
   "id": "d680e434-6dbc-416c-8cd2-47e28cf436ed",
   "metadata": {},
   "outputs": [
    {
     "data": {
      "image/png": "[encoded data removed]",
      "text/plain": [
       "<Figure size 432x288 with 1 Axes>"
      ]
     },
     "metadata": {
      "needs_background": "light"
     },
     "output_type": "display_data"
    }
   ],
   "source": [
    "import glob\n",
    "files = glob.glob('psd_mahala_AEsparse*')\n",
    "files = [file for file in filter(lambda x: not x.startswith('psd_mahala_AEsparse_100epochs'), files)]\n",
    "files = sorted(files, key=lambda x: int(x.split('AEsparse')[1].split('MSE')[0]))\n",
    "\n",
    "df_harmonic = df_harmonic_maker(files)\n",
    "%matplotlib inline\n",
    "line_plotter_all(df_harmonic)"
   ]
  },
  {
   "cell_type": "code",
   "execution_count": 102,
   "id": "de282e1a-ac10-48df-8371-8b07c6ede966",
   "metadata": {},
   "outputs": [
    {
     "data": {
      "text/html": [
       "<div>\n",
       "<style scoped>\n",
       "    .dataframe tbody tr th:only-of-type {\n",
       "        vertical-align: middle;\n",
       "    }\n",
       "\n",
       "    .dataframe tbody tr th {\n",
       "        vertical-align: top;\n",
       "    }\n",
       "\n",
       "    .dataframe thead th {\n",
       "        text-align: right;\n",
       "    }\n",
       "</style>\n",
       "<table border=\"1\" class=\"dataframe\">\n",
       "  <thead>\n",
       "    <tr style=\"text-align: right;\">\n",
       "      <th></th>\n",
       "      <th>max_col</th>\n",
       "      <th>max_val</th>\n",
       "    </tr>\n",
       "  </thead>\n",
       "  <tbody>\n",
       "    <tr>\n",
       "      <th>slider</th>\n",
       "      <td>hmean5</td>\n",
       "      <td>0.974783</td>\n",
       "    </tr>\n",
       "    <tr>\n",
       "      <th>fan</th>\n",
       "      <td>hmean23</td>\n",
       "      <td>0.979417</td>\n",
       "    </tr>\n",
       "    <tr>\n",
       "      <th>pump</th>\n",
       "      <td>hmean21</td>\n",
       "      <td>0.988252</td>\n",
       "    </tr>\n",
       "    <tr>\n",
       "      <th>valve</th>\n",
       "      <td>hmean1</td>\n",
       "      <td>0.827472</td>\n",
       "    </tr>\n",
       "  </tbody>\n",
       "</table>\n",
       "</div>"
      ],
      "text/plain": [
       "        max_col   max_val\n",
       "slider   hmean5  0.974783\n",
       "fan     hmean23  0.979417\n",
       "pump    hmean21  0.988252\n",
       "valve    hmean1  0.827472"
      ]
     },
     "execution_count": 102,
     "metadata": {},
     "output_type": "execute_result"
    }
   ],
   "source": [
    "max_df = max_val_and_index(df_harmonic)\n",
    "max_df"
   ]
  },
  {
   "cell_type": "markdown",
   "id": "481424de-048e-4234-b4c1-31c89f9be867",
   "metadata": {},
   "source": [
    "# 3) PSD features : Sparse AE & 100epochs"
   ]
  },
  {
   "cell_type": "markdown",
   "id": "32d3856f-5953-411a-b408-b4dcf2ec5bb8",
   "metadata": {},
   "source": [
    "- batch_size = 512\n",
    "- epochs = 100\n",
    "- intermediate layers = feature vector size"
   ]
  },
  {
   "cell_type": "code",
   "execution_count": 103,
   "id": "282dee3f-b725-47e6-bd63-160474735dd2",
   "metadata": {},
   "outputs": [
    {
     "data": {
      "image/png": "[encoded data removed]",
      "text/plain": [
       "<Figure size 432x288 with 1 Axes>"
      ]
     },
     "metadata": {
      "needs_background": "light"
     },
     "output_type": "display_data"
    }
   ],
   "source": [
    "import glob\n",
    "files = glob.glob('psd_mahala_AEsparse_100epochs*')\n",
    "files = sorted(files, key=lambda x: int(x.split('100epochs_')[1].split('MSE')[0]))\n",
    "\n",
    "df_harmonic = df_harmonic_maker(files)\n",
    "%matplotlib inline\n",
    "line_plotter_all(df_harmonic)"
   ]
  },
  {
   "cell_type": "code",
   "execution_count": 104,
   "id": "2170b341-80d9-4957-a805-0d550853e374",
   "metadata": {},
   "outputs": [
    {
     "data": {
      "text/html": [
       "<div>\n",
       "<style scoped>\n",
       "    .dataframe tbody tr th:only-of-type {\n",
       "        vertical-align: middle;\n",
       "    }\n",
       "\n",
       "    .dataframe tbody tr th {\n",
       "        vertical-align: top;\n",
       "    }\n",
       "\n",
       "    .dataframe thead th {\n",
       "        text-align: right;\n",
       "    }\n",
       "</style>\n",
       "<table border=\"1\" class=\"dataframe\">\n",
       "  <thead>\n",
       "    <tr style=\"text-align: right;\">\n",
       "      <th></th>\n",
       "      <th>max_col</th>\n",
       "      <th>max_val</th>\n",
       "    </tr>\n",
       "  </thead>\n",
       "  <tbody>\n",
       "    <tr>\n",
       "      <th>slider</th>\n",
       "      <td>hmean8</td>\n",
       "      <td>0.977406</td>\n",
       "    </tr>\n",
       "    <tr>\n",
       "      <th>fan</th>\n",
       "      <td>hmean25</td>\n",
       "      <td>0.980889</td>\n",
       "    </tr>\n",
       "    <tr>\n",
       "      <th>pump</th>\n",
       "      <td>hmean9</td>\n",
       "      <td>0.989924</td>\n",
       "    </tr>\n",
       "    <tr>\n",
       "      <th>valve</th>\n",
       "      <td>hmean1</td>\n",
       "      <td>0.825478</td>\n",
       "    </tr>\n",
       "  </tbody>\n",
       "</table>\n",
       "</div>"
      ],
      "text/plain": [
       "        max_col   max_val\n",
       "slider   hmean8  0.977406\n",
       "fan     hmean25  0.980889\n",
       "pump     hmean9  0.989924\n",
       "valve    hmean1  0.825478"
      ]
     },
     "execution_count": 104,
     "metadata": {},
     "output_type": "execute_result"
    }
   ],
   "source": [
    "max_df = max_val_and_index(df_harmonic)\n",
    "max_df"
   ]
  },
  {
   "cell_type": "markdown",
   "id": "8c11d298-6607-46cf-9530-4ba2c4ca5e9b",
   "metadata": {},
   "source": [
    "# 4) PSD features : Sparse AE & -6dB SNR"
   ]
  },
  {
   "cell_type": "code",
   "execution_count": 105,
   "id": "76841ecd-6998-4f2c-81e4-c7392bec361d",
   "metadata": {},
   "outputs": [
    {
     "data": {
      "image/png": "[encoded data removed]",
      "text/plain": [
       "<Figure size 432x288 with 1 Axes>"
      ]
     },
     "metadata": {
      "needs_background": "light"
     },
     "output_type": "display_data"
    }
   ],
   "source": [
    "import glob\n",
    "files = glob.glob('psd_noisy_mahala_AEsparse*')\n",
    "files = sorted(files, key=lambda x: int(x.split('AEsparse')[1].split('MSE')[0]))\n",
    "\n",
    "df_harmonic = df_harmonic_maker(files)\n",
    "%matplotlib inline\n",
    "line_plotter_all(df_harmonic, ylim = (0.4,1))"
   ]
  },
  {
   "cell_type": "code",
   "execution_count": 106,
   "id": "a67eb1b5-86eb-4b8e-94d1-d6d1f6fa2efd",
   "metadata": {},
   "outputs": [
    {
     "data": {
      "text/html": [
       "<div>\n",
       "<style scoped>\n",
       "    .dataframe tbody tr th:only-of-type {\n",
       "        vertical-align: middle;\n",
       "    }\n",
       "\n",
       "    .dataframe tbody tr th {\n",
       "        vertical-align: top;\n",
       "    }\n",
       "\n",
       "    .dataframe thead th {\n",
       "        text-align: right;\n",
       "    }\n",
       "</style>\n",
       "<table border=\"1\" class=\"dataframe\">\n",
       "  <thead>\n",
       "    <tr style=\"text-align: right;\">\n",
       "      <th></th>\n",
       "      <th>max_col</th>\n",
       "      <th>max_val</th>\n",
       "    </tr>\n",
       "  </thead>\n",
       "  <tbody>\n",
       "    <tr>\n",
       "      <th>slider</th>\n",
       "      <td>hmean1</td>\n",
       "      <td>0.756856</td>\n",
       "    </tr>\n",
       "    <tr>\n",
       "      <th>fan</th>\n",
       "      <td>hmean18</td>\n",
       "      <td>0.769703</td>\n",
       "    </tr>\n",
       "    <tr>\n",
       "      <th>pump</th>\n",
       "      <td>hmean3</td>\n",
       "      <td>0.850084</td>\n",
       "    </tr>\n",
       "    <tr>\n",
       "      <th>valve</th>\n",
       "      <td>hmean1</td>\n",
       "      <td>0.519586</td>\n",
       "    </tr>\n",
       "  </tbody>\n",
       "</table>\n",
       "</div>"
      ],
      "text/plain": [
       "        max_col   max_val\n",
       "slider   hmean1  0.756856\n",
       "fan     hmean18  0.769703\n",
       "pump     hmean3  0.850084\n",
       "valve    hmean1  0.519586"
      ]
     },
     "execution_count": 106,
     "metadata": {},
     "output_type": "execute_result"
    }
   ],
   "source": [
    "max_df = max_val_and_index(df_harmonic)\n",
    "max_df"
   ]
  },
  {
   "cell_type": "markdown",
   "id": "bdc8a07f-a37a-4adf-a57a-300cc95bdfbc",
   "metadata": {},
   "source": [
    "# 5) Spectro features : MIMII AE"
   ]
  },
  {
   "cell_type": "code",
   "execution_count": 107,
   "id": "fadbc8fe-54ce-4217-8dc9-7958c96d22a0",
   "metadata": {},
   "outputs": [
    {
     "data": {
      "image/png": "[encoded data removed]",
      "text/plain": [
       "<Figure size 432x288 with 1 Axes>"
      ]
     },
     "metadata": {
      "needs_background": "light"
     },
     "output_type": "display_data"
    }
   ],
   "source": [
    "import glob\n",
    "files = glob.glob('spectro*')\n",
    "files = sorted(files, key=lambda x: int(x.split('AEmimii')[1].split('MSE')[0]))\n",
    "\n",
    "df_harmonic = df_harmonic_maker(files)\n",
    "%matplotlib inline\n",
    "line_plotter_all(df_harmonic)"
   ]
  },
  {
   "cell_type": "code",
   "execution_count": 108,
   "id": "c1c7b42e-addc-4389-a103-26fb0d03b8ef",
   "metadata": {},
   "outputs": [
    {
     "data": {
      "text/html": [
       "<div>\n",
       "<style scoped>\n",
       "    .dataframe tbody tr th:only-of-type {\n",
       "        vertical-align: middle;\n",
       "    }\n",
       "\n",
       "    .dataframe tbody tr th {\n",
       "        vertical-align: top;\n",
       "    }\n",
       "\n",
       "    .dataframe thead th {\n",
       "        text-align: right;\n",
       "    }\n",
       "</style>\n",
       "<table border=\"1\" class=\"dataframe\">\n",
       "  <thead>\n",
       "    <tr style=\"text-align: right;\">\n",
       "      <th></th>\n",
       "      <th>max_col</th>\n",
       "      <th>max_val</th>\n",
       "    </tr>\n",
       "  </thead>\n",
       "  <tbody>\n",
       "    <tr>\n",
       "      <th>slider</th>\n",
       "      <td>hmean1</td>\n",
       "      <td>0.951420</td>\n",
       "    </tr>\n",
       "    <tr>\n",
       "      <th>fan</th>\n",
       "      <td>hmean10</td>\n",
       "      <td>0.884594</td>\n",
       "    </tr>\n",
       "    <tr>\n",
       "      <th>pump</th>\n",
       "      <td>hmean4</td>\n",
       "      <td>0.762187</td>\n",
       "    </tr>\n",
       "    <tr>\n",
       "      <th>valve</th>\n",
       "      <td>hmean10</td>\n",
       "      <td>0.924768</td>\n",
       "    </tr>\n",
       "  </tbody>\n",
       "</table>\n",
       "</div>"
      ],
      "text/plain": [
       "        max_col   max_val\n",
       "slider   hmean1  0.951420\n",
       "fan     hmean10  0.884594\n",
       "pump     hmean4  0.762187\n",
       "valve   hmean10  0.924768"
      ]
     },
     "execution_count": 108,
     "metadata": {},
     "output_type": "execute_result"
    }
   ],
   "source": [
    "max_df = max_val_and_index(df_harmonic)\n",
    "max_df"
   ]
  }
 ],
 "metadata": {
  "kernelspec": {
   "display_name": "Python 3 (ipykernel)",
   "language": "python",
   "name": "python3"
  },
  "language_info": {
   "codemirror_mode": {
    "name": "ipython",
    "version": 3
   },
   "file_extension": ".py",
   "mimetype": "text/x-python",
   "name": "python",
   "nbconvert_exporter": "python",
   "pygments_lexer": "ipython3",
   "version": "3.9.12"
  }
 },
 "nbformat": 4,
 "nbformat_minor": 5
}
